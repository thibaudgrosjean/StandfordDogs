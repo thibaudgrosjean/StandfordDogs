{
 "cells": [
  {
   "cell_type": "code",
   "execution_count": 206,
   "metadata": {},
   "outputs": [],
   "source": [
    "import pandas as pd\n",
    "from mat4py import loadmat\n",
    "from matplotlib import pyplot as plt\n",
    "import re\n",
    "from IPython.display import Image\n",
    "# import plotly\n",
    "from keras.preprocessing.image import ImageDataGenerator\n",
    "import tensorboard"
   ]
  },
  {
   "cell_type": "markdown",
   "metadata": {},
   "source": [
    "# Load meta data"
   ]
  },
  {
   "cell_type": "code",
   "execution_count": 207,
   "metadata": {},
   "outputs": [
    {
     "data": {
      "text/plain": [
       "((12000, 3), (8580, 3))"
      ]
     },
     "execution_count": 207,
     "metadata": {},
     "output_type": "execute_result"
    }
   ],
   "source": [
    "# Open the meta data\n",
    "train_df = pd.DataFrame(loadmat('./data/lists/train_list.mat'))\n",
    "test_df = pd.DataFrame(loadmat('./data/lists/test_list.mat'))\n",
    "train_df.shape, test_df.shape"
   ]
  },
  {
   "cell_type": "code",
   "execution_count": 208,
   "metadata": {},
   "outputs": [
    {
     "data": {
      "text/html": [
       "<div>\n",
       "<style scoped>\n",
       "    .dataframe tbody tr th:only-of-type {\n",
       "        vertical-align: middle;\n",
       "    }\n",
       "\n",
       "    .dataframe tbody tr th {\n",
       "        vertical-align: top;\n",
       "    }\n",
       "\n",
       "    .dataframe thead th {\n",
       "        text-align: right;\n",
       "    }\n",
       "</style>\n",
       "<table border=\"1\" class=\"dataframe\">\n",
       "  <thead>\n",
       "    <tr style=\"text-align: right;\">\n",
       "      <th></th>\n",
       "      <th>file_list</th>\n",
       "      <th>annotation_list</th>\n",
       "      <th>labels</th>\n",
       "    </tr>\n",
       "  </thead>\n",
       "  <tbody>\n",
       "    <tr>\n",
       "      <th>0</th>\n",
       "      <td>n02085620-Chihuahua/n02085620_5927.jpg</td>\n",
       "      <td>n02085620-Chihuahua/n02085620_5927</td>\n",
       "      <td>1</td>\n",
       "    </tr>\n",
       "    <tr>\n",
       "      <th>1</th>\n",
       "      <td>n02085620-Chihuahua/n02085620_4441.jpg</td>\n",
       "      <td>n02085620-Chihuahua/n02085620_4441</td>\n",
       "      <td>1</td>\n",
       "    </tr>\n",
       "    <tr>\n",
       "      <th>2</th>\n",
       "      <td>n02085620-Chihuahua/n02085620_1502.jpg</td>\n",
       "      <td>n02085620-Chihuahua/n02085620_1502</td>\n",
       "      <td>1</td>\n",
       "    </tr>\n",
       "    <tr>\n",
       "      <th>3</th>\n",
       "      <td>n02085620-Chihuahua/n02085620_1916.jpg</td>\n",
       "      <td>n02085620-Chihuahua/n02085620_1916</td>\n",
       "      <td>1</td>\n",
       "    </tr>\n",
       "    <tr>\n",
       "      <th>4</th>\n",
       "      <td>n02085620-Chihuahua/n02085620_13151.jpg</td>\n",
       "      <td>n02085620-Chihuahua/n02085620_13151</td>\n",
       "      <td>1</td>\n",
       "    </tr>\n",
       "  </tbody>\n",
       "</table>\n",
       "</div>"
      ],
      "text/plain": [
       "                                 file_list  \\\n",
       "0   n02085620-Chihuahua/n02085620_5927.jpg   \n",
       "1   n02085620-Chihuahua/n02085620_4441.jpg   \n",
       "2   n02085620-Chihuahua/n02085620_1502.jpg   \n",
       "3   n02085620-Chihuahua/n02085620_1916.jpg   \n",
       "4  n02085620-Chihuahua/n02085620_13151.jpg   \n",
       "\n",
       "                       annotation_list  labels  \n",
       "0   n02085620-Chihuahua/n02085620_5927       1  \n",
       "1   n02085620-Chihuahua/n02085620_4441       1  \n",
       "2   n02085620-Chihuahua/n02085620_1502       1  \n",
       "3   n02085620-Chihuahua/n02085620_1916       1  \n",
       "4  n02085620-Chihuahua/n02085620_13151       1  "
      ]
     },
     "execution_count": 208,
     "metadata": {},
     "output_type": "execute_result"
    }
   ],
   "source": [
    "# Clean df\n",
    "train_df = train_df.applymap(lambda x: x[0])\n",
    "test_df = test_df.applymap(lambda x: x[0])\n",
    "train_df.head()"
   ]
  },
  {
   "cell_type": "markdown",
   "metadata": {},
   "source": [
    "# Filter data"
   ]
  },
  {
   "cell_type": "code",
   "execution_count": 209,
   "metadata": {},
   "outputs": [
    {
     "data": {
      "text/plain": [
       "((300, 3), (289, 3))"
      ]
     },
     "execution_count": 209,
     "metadata": {},
     "output_type": "execute_result"
    }
   ],
   "source": [
    "# Extract first n labels\n",
    "N_LABELS = 3\n",
    "train_df = train_df[train_df['labels'] <= N_LABELS]\n",
    "test_df = test_df[test_df['labels'] <= N_LABELS]\n",
    "train_df.shape, test_df.shape"
   ]
  },
  {
   "cell_type": "markdown",
   "metadata": {},
   "source": [
    "# Explore data"
   ]
  },
  {
   "cell_type": "code",
   "execution_count": 210,
   "metadata": {},
   "outputs": [
    {
     "data": {
      "text/plain": [
       "1    100\n",
       "2    100\n",
       "3    100\n",
       "Name: labels, dtype: int64"
      ]
     },
     "execution_count": 210,
     "metadata": {},
     "output_type": "execute_result"
    }
   ],
   "source": [
    "# Show number of samples per labels\n",
    "train_df['labels'].value_counts()"
   ]
  },
  {
   "cell_type": "code",
   "execution_count": 211,
   "metadata": {},
   "outputs": [
    {
     "data": {
      "text/plain": [
       "3    152\n",
       "2     85\n",
       "1     52\n",
       "Name: labels, dtype: int64"
      ]
     },
     "execution_count": 211,
     "metadata": {},
     "output_type": "execute_result"
    }
   ],
   "source": [
    "test_df['labels'].value_counts()"
   ]
  },
  {
   "cell_type": "code",
   "execution_count": 212,
   "metadata": {},
   "outputs": [
    {
     "data": {
      "image/jpeg": "[encoded data removed]",
      "text/plain": [
       "<IPython.core.display.Image object>"
      ]
     },
     "execution_count": 212,
     "metadata": {},
     "output_type": "execute_result"
    }
   ],
   "source": [
    "images_path = './data/Images/'\n",
    "\n",
    "# Show a random picture\n",
    "sample = train_df.sample(1)\n",
    "sample_path = sample['file_list'].values[0]\n",
    "Image(filename=images_path+sample_path) \n"
   ]
  },
  {
   "cell_type": "markdown",
   "metadata": {},
   "source": [
    "# Preprocessing"
   ]
  },
  {
   "cell_type": "code",
   "execution_count": 213,
   "metadata": {},
   "outputs": [],
   "source": [
    "# Setting labels dtype for the generator\n",
    "train_df['labels'] = train_df['labels'].astype(str)\n",
    "test_df['labels'] = test_df['labels'].astype(str)"
   ]
  },
  {
   "cell_type": "markdown",
   "metadata": {},
   "source": [
    "The VGG16 model was trained was trained with 224x224 pictures, therefore, we are rescaling the dataset pictures to this resolution:"
   ]
  },
  {
   "cell_type": "code",
   "execution_count": 217,
   "metadata": {},
   "outputs": [
    {
     "name": "stdout",
     "output_type": "stream",
     "text": [
      "Found 300 validated image filenames belonging to 3 classes.\n",
      "Found 289 validated image filenames belonging to 3 classes.\n"
     ]
    }
   ],
   "source": [
    "data_generator = ImageDataGenerator(rescale=255)\n",
    "\n",
    "# Defining the arguments for both generators\n",
    "generator_settings = {\n",
    "    'directory': images_path,\n",
    "    'x_col': 'file_list',\n",
    "    'y_col': 'labels',\n",
    "    'class_mode': 'categorical',\n",
    "    'target_size': (224,224),\n",
    "    'batch_size': 32}\n",
    "\n",
    "train_generator = data_generator.flow_from_dataframe(\n",
    "    dataframe=train_df,\n",
    "    # subset='training',\n",
    "    **generator_settings)\n",
    "\n",
    "validation_generator = data_generator.flow_from_dataframe(\n",
    "    dataframe=test_df,\n",
    "    # validation_split=0.8,\n",
    "    # subset='validation',\n",
    "    **generator_settings)"
   ]
  },
  {
   "cell_type": "code",
   "execution_count": null,
   "metadata": {},
   "outputs": [],
   "source": []
  }
 ],
 "metadata": {
  "interpreter": {
   "hash": "b7d65781dc70777c028682d652c60f641e6f6c273b85cab7a3868f8ddc488d1f"
  },
  "kernelspec": {
   "display_name": "Python 3.9.10 ('P6')",
   "language": "python",
   "name": "python3"
  },
  "language_info": {
   "codemirror_mode": {
    "name": "ipython",
    "version": 3
   },
   "file_extension": ".py",
   "mimetype": "text/x-python",
   "name": "python",
   "nbconvert_exporter": "python",
   "pygments_lexer": "ipython3",
   "version": "3.9.10"
  },
  "orig_nbformat": 4
 },
 "nbformat": 4,
 "nbformat_minor": 2
}
